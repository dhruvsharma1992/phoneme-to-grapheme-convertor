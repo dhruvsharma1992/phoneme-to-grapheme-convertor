{
 "cells": [
  {
   "cell_type": "code",
   "execution_count": 1,
   "metadata": {},
   "outputs": [],
   "source": [
    "import sqlite3\n",
    "import numpy\n",
    "from sklearn.model_selection import train_test_split\n",
    "conn = sqlite3.connect('training.db')\n",
    "c = conn.cursor()"
   ]
  },
  {
   "cell_type": "code",
   "execution_count": 2,
   "metadata": {},
   "outputs": [],
   "source": [
    "from dictionary import *\n",
    "chars = []\n",
    "for key,val in arpabetDict.items():\n",
    "    chars += val\n",
    "chars = list(set(chars))\n",
    "char_dict = {chars[i].upper():i+1 for i in range(len(chars))}\n",
    "char_dict[\"#\"] = 0\n",
    "arpabets = list(arpabetDict.keys())\n",
    "# from IPython.core.debugger import Tracer; Tracer()() \n",
    "arp_dict = {arpabets[i].upper():i+1 for i in range(len(arpabets))}\n",
    "arp_dict[\"#\"]=0\n",
    "# chars"
   ]
  },
  {
   "cell_type": "code",
   "execution_count": 3,
   "metadata": {},
   "outputs": [],
   "source": [
    "all_ph = set()\n",
    "for i in range(1,3+1):\n",
    "    c.execute('SELECT DISTINCT \"' + str(i) + '_before_arp\" FROM Training_table ')\n",
    "    all_ph.update(c.fetchall())\n",
    "    c.execute('SELECT DISTINCT \"' + str(i) + '_after_arp\" FROM Training_table ')\n",
    "    all_ph.update(c.fetchall())\n",
    "all_ph = list(all_ph)\n",
    "for i in range(len(all_ph)):\n",
    "    all_ph[i] = all_ph[i][0]\n",
    "all_ph = sorted(all_ph)\n",
    "# print (all_ph)\n",
    "c.execute('select DISTINCT character FROM Training_table ')\n",
    "all_ch = sorted([x[0]for x in c.fetchall()])\n",
    "# all_ch\n",
    "# X"
   ]
  },
  {
   "cell_type": "code",
   "execution_count": 4,
   "metadata": {},
   "outputs": [],
   "source": [
    "# c.execute('SELECT \"1_before_arp\",\"2_before_arp\" ,\"3_before_arp\" ,\"1_after_arp\" ,\"2_after_arp\" ,\"3_after_arp\" ,  arpabet  FROM Training_table  ')\n",
    "# x = c.fetchone()\n",
    "# print len(features(x))"
   ]
  },
  {
   "cell_type": "code",
   "execution_count": 22,
   "metadata": {},
   "outputs": [],
   "source": [
    "\n",
    "def one_hot(el,li):\n",
    "    ret = [0]*(len(li)+1)\n",
    "#     print(str(el) +\",\"+ str(li))\n",
    "#     from IPython.core.debugger import Tracer; Tracer()() \n",
    "    ret[li.index(el)] = 1\n",
    "#     print ret\n",
    "    return ret[1:]\n",
    "    \n",
    "def features(row):\n",
    "    ret = []\n",
    "    for x in row[:-1]:\n",
    "        ret += one_hot(x,all_ph)\n",
    "    ret.append(row[-1])\n",
    "    return ret\n",
    "#     return [\n",
    "#         arp_dict[row[0]],\n",
    "#         arp_dict[row[1]],\n",
    "#         arp_dict[row[2]],\n",
    "#         arp_dict[row[3]],\n",
    "#         arp_dict[row[4]],\n",
    "#         arp_dict[row[5]],\n",
    "#         arp_dict[row[6]],\n",
    "# #         arp_dict[row[7]],\n",
    "# #         char_dict[row[7]]\n",
    "#     ]\n",
    "def generatorY():\n",
    "    \n",
    "    n = 0\n",
    "    c.execute('select character FROM Training_table ')\n",
    "    Y = c.fetchall()\n",
    "    while n < len(Y):\n",
    "        yield all_ch.index(Y[n][0])\n",
    "        n+= 1\n",
    "        \n",
    "def generatorX():\n",
    "    num = 0\n",
    "    c.execute('SELECT count(*) FROM Training_table')\n",
    "    total = c.fetchall()[0][0]\n",
    "    while num < total:\n",
    "        if num % 1000 == 0:\n",
    "            c.execute('SELECT \"1_before_arp\",\"2_before_arp\" ,\"3_before_arp\" ,\\\n",
    "          \"1_after_arp\" ,\"2_after_arp\" ,\"3_after_arp\" ,  arpabet  FROM Training_table LIMIT '+num+\" , 1000\")\n",
    "            X = [features(row) for row in c.fetchall()]\n",
    "            \n",
    "        yield X[nuall_chm%1000]\n",
    "        num += 1\n",
    "        \n",
    "def getX():\n",
    "    num = 0\n",
    "    c.execute('SELECT count(*) FROM Training_table')\n",
    "    total = c.fetchall()[0][0]\n",
    "    while num < total:\n",
    "        if num % 1000 == 0:\n",
    "            c.execute('SELECT \"1_before_arp\",\"2_before_arp\" ,\"3_before_arp\" ,\\\n",
    "          \"1_after_arp\" ,\"2_after_arp\" ,\"3_after_arp\" ,  arpabet  FROM Training_table LIMIT '+num+\" , 1000\")\n",
    "            X = [features(row) for row in c.fetchall()]\n",
    "            \n",
    "        X[nuall_chm%1000]\n",
    "        num += 1\n",
    "    return X\n",
    "\n",
    "def getY():\n",
    "    \n",
    "    n = 0\n",
    "    c.execute('select character FROM Training_table ')\n",
    "    Y = c.fetchall()\n",
    "    while n < len(Y):\n",
    "        all_ch.index(Y[n][0])\n",
    "        n+= 1\n",
    "    return Y\n",
    "    \n",
    "#commenting this out because fit doesnot take generators:pFiT\n",
    "# X = generatorX()\n",
    "# Y = generatorY()\n",
    "i = 0\n",
    "# for y in Y:\n",
    "#     print (y)\n",
    "#     i+=1\n",
    "#     if i==5:\n",
    "#         break\n",
    "c.execute('SELECT \"1_before_arp\",\"2_before_arp\" ,\"3_before_arp\" ,\\\n",
    "          \"1_after_arp\" ,\"2_after_arp\" ,\"3_after_arp\" ,  arpabet , character FROM Training_table ORDER BY RANDOM() LIMIT 100000')\n",
    "X = [features(row) for row in c.fetchall()]\n",
    "# Y = getY()\n",
    "Y = [x[-1] for x in X]\n",
    "X = [x[:-1] for x in X]\n",
    "X_train,X_test,Y_train,Y_test = train_test_split(X,Y,test_size=0.3)"
   ]
  },
  {
   "cell_type": "code",
   "execution_count": 23,
   "metadata": {},
   "outputs": [],
   "source": [
    "# from sklearn.preprocessing import OneHotEncoder\n",
    "# import numpy\n",
    "# encX = OneHotEncoder()\n",
    "# encX.fit(X)\n",
    "# _X = encX.transform(X).toarray()\n",
    "# Y = numpy.matrix(Y)\n",
    "# encY = OneHotEncoder()\n",
    "# # Y = numpy.reshape(Y,len(Y),1)\n",
    "# encY.fit(Y.T)\n",
    "# _Y = encY.transform(Y.T).toarray()"
   ]
  },
  {
   "cell_type": "code",
   "execution_count": 24,
   "metadata": {},
   "outputs": [
    {
     "data": {
      "text/plain": [
       "GradientBoostingClassifier(criterion='friedman_mse', init=None,\n",
       "              learning_rate=0.1, loss='deviance', max_depth=3,\n",
       "              max_features=None, max_leaf_nodes=None,\n",
       "              min_impurity_decrease=0.0, min_impurity_split=None,\n",
       "              min_samples_leaf=1, min_samples_split=2,\n",
       "              min_weight_fraction_leaf=0.0, n_estimators=100,\n",
       "              presort='auto', random_state=None, subsample=1.0, verbose=0,\n",
       "              warm_start=False)"
      ]
     },
     "execution_count": 24,
     "metadata": {},
     "output_type": "execute_result"
    }
   ],
   "source": [
    "from sklearn.ensemble import RandomForestClassifier, GradientBoostingClassifier\n",
    "# model = RandomForestClassifier(n_jobs=-1)\n",
    "model = GradientBoostingClassifier()\n",
    "model.fit(X_train,Y_train)"
   ]
  },
  {
   "cell_type": "code",
   "execution_count": 25,
   "metadata": {},
   "outputs": [],
   "source": [
    "pred=model.predict(X_test)"
   ]
  },
  {
   "cell_type": "code",
   "execution_count": 26,
   "metadata": {},
   "outputs": [],
   "source": [
    "preds = [chars[numpy.argmax(ch.tolist())] for ch in pred]"
   ]
  },
  {
   "cell_type": "code",
   "execution_count": 27,
   "metadata": {},
   "outputs": [
    {
     "data": {
      "text/plain": [
       "'oo'"
      ]
     },
     "execution_count": 27,
     "metadata": {},
     "output_type": "execute_result"
    }
   ],
   "source": [
    "preds[0]"
   ]
  },
  {
   "cell_type": "code",
   "execution_count": 28,
   "metadata": {},
   "outputs": [
    {
     "data": {
      "text/plain": [
       "'oo'"
      ]
     },
     "execution_count": 28,
     "metadata": {},
     "output_type": "execute_result"
    }
   ],
   "source": [
    "chars[numpy.argmax(Y_test[0])]"
   ]
  },
  {
   "cell_type": "code",
   "execution_count": 29,
   "metadata": {},
   "outputs": [
    {
     "data": {
      "text/plain": [
       "0.86419999999999997"
      ]
     },
     "execution_count": 29,
     "metadata": {},
     "output_type": "execute_result"
    }
   ],
   "source": [
    "model.score(X_test,Y_test)"
   ]
  },
  {
   "cell_type": "code",
   "execution_count": 30,
   "metadata": {},
   "outputs": [],
   "source": [
    "importance_list = model.feature_importances_.tolist()"
   ]
  },
  {
   "cell_type": "code",
   "execution_count": 31,
   "metadata": {},
   "outputs": [
    {
     "data": {
      "text/plain": [
       "280"
      ]
     },
     "execution_count": 31,
     "metadata": {},
     "output_type": "execute_result"
    }
   ],
   "source": [
    "len(importance_list)"
   ]
  },
  {
   "cell_type": "code",
   "execution_count": 32,
   "metadata": {},
   "outputs": [
    {
     "data": {
      "text/plain": [
       "40"
      ]
     },
     "execution_count": 32,
     "metadata": {},
     "output_type": "execute_result"
    }
   ],
   "source": [
    "len(all_ph)"
   ]
  },
  {
   "cell_type": "code",
   "execution_count": 33,
   "metadata": {},
   "outputs": [
    {
     "name": "stdout",
     "output_type": "stream",
     "text": [
      "[0.17286694028283045, 0.11178494007456272, 0.08952373796228982, 0.20316342843519902, 0.10150566949060162, 0.05760530817700412, 0.24420571328243018]\n"
     ]
    }
   ],
   "source": [
    "importance = []\n",
    "for i in range(0, 7):\n",
    "    importance+=[sum(importance_list[i*40:(i*40)+40])]\n",
    "print(importance)"
   ]
  },
  {
   "cell_type": "code",
   "execution_count": 34,
   "metadata": {},
   "outputs": [],
   "source": [
    "#getting accuracy over training\n",
    "pred_train = model.predict(X_train)\n"
   ]
  },
  {
   "cell_type": "code",
   "execution_count": 35,
   "metadata": {},
   "outputs": [
    {
     "data": {
      "text/plain": [
       "0.88822857142857148"
      ]
     },
     "execution_count": 35,
     "metadata": {},
     "output_type": "execute_result"
    }
   ],
   "source": [
    "model.score(X_train,Y_train)"
   ]
  },
  {
   "cell_type": "code",
   "execution_count": 36,
   "metadata": {},
   "outputs": [],
   "source": [
    "importance_list = model.feature_importances_.tolist()"
   ]
  },
  {
   "cell_type": "code",
   "execution_count": 37,
   "metadata": {},
   "outputs": [
    {
     "data": {
      "text/plain": [
       "280"
      ]
     },
     "execution_count": 37,
     "metadata": {},
     "output_type": "execute_result"
    }
   ],
   "source": [
    "len(importance_list)"
   ]
  },
  {
   "cell_type": "code",
   "execution_count": 38,
   "metadata": {},
   "outputs": [
    {
     "name": "stdout",
     "output_type": "stream",
     "text": [
      "[0.17286694028283045, 0.11178494007456272, 0.08952373796228982, 0.20316342843519902, 0.10150566949060162, 0.05760530817700412, 0.24420571328243018]\n"
     ]
    }
   ],
   "source": [
    "importance = []\n",
    "for i in range(0, 7):\n",
    "    importance+=[sum(importance_list[i*40:(i*40)+40])]\n",
    "print(importance)"
   ]
  },
  {
   "cell_type": "code",
   "execution_count": null,
   "metadata": {},
   "outputs": [],
   "source": []
  },
  {
   "cell_type": "code",
   "execution_count": null,
   "metadata": {},
   "outputs": [],
   "source": []
  },
  {
   "cell_type": "code",
   "execution_count": null,
   "metadata": {},
   "outputs": [],
   "source": []
  },
  {
   "cell_type": "code",
   "execution_count": null,
   "metadata": {},
   "outputs": [],
   "source": []
  }
 ],
 "metadata": {
  "kernelspec": {
   "display_name": "Python 3",
   "language": "python",
   "name": "python3"
  },
  "language_info": {
   "codemirror_mode": {
    "name": "ipython",
    "version": 3
   },
   "file_extension": ".py",
   "mimetype": "text/x-python",
   "name": "python",
   "nbconvert_exporter": "python",
   "pygments_lexer": "ipython3",
   "version": "3.6.2"
  },
  "toc": {
   "colors": {
    "hover_highlight": "#DAA520",
    "running_highlight": "#FF0000",
    "selected_highlight": "#FFD700"
   },
   "moveMenuLeft": true,
   "nav_menu": {
    "height": "12px",
    "width": "252px"
   },
   "navigate_menu": true,
   "number_sections": true,
   "sideBar": true,
   "threshold": 4,
   "toc_cell": false,
   "toc_section_display": "block",
   "toc_window_display": false,
   "widenNotebook": false
  }
 },
 "nbformat": 4,
 "nbformat_minor": 2
}
