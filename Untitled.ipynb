{
 "cells": [
  {
   "cell_type": "code",
   "execution_count": 1,
   "metadata": {
    "collapsed": true
   },
   "outputs": [],
   "source": [
    "import sqlite3\n",
    "conn = sqlite3.connect('training.db')\n",
    "c = conn.cursor()"
   ]
  },
  {
   "cell_type": "code",
   "execution_count": 2,
   "metadata": {
    "collapsed": true
   },
   "outputs": [],
   "source": [
    "from dictionary import *\n",
    "chars = []\n",
    "for key,val in arpabetDict.items():\n",
    "    chars += val\n",
    "chars = list(set(chars))\n",
    "char_dict = {chars[i].upper():i+1 for i in range(len(chars))}\n",
    "char_dict[\"#\"] = 0\n",
    "arpabets = arpabetDict.keys()\n",
    "arp_dict = {arpabets[i].upper():i+1 for i in range(len(arpabets))}\n",
    "arp_dict[\"#\"]=0\n",
    "# chars"
   ]
  },
  {
   "cell_type": "code",
   "execution_count": 30,
   "metadata": {},
   "outputs": [],
   "source": [
    "all_ph = set()\n",
    "for i in range(1,3+1):\n",
    "    c.execute('SELECT DISTINCT \"' + str(i) + '_before_arp\" FROM Training_table ')\n",
    "    all_ph.update(c.fetchall())\n",
    "    c.execute('SELECT DISTINCT \"' + str(i) + '_after_arp\" FROM Training_table ')\n",
    "    all_ph.update(c.fetchall())\n",
    "all_ph = list(all_ph)\n",
    "for i in range(len(all_ph)):\n",
    "    all_ph[i] = all_ph[i][0]\n",
    "all_ph = sorted(all_ph)\n",
    "# print (all_ph)\n",
    "c.execute('select DISTINCT character FROM Training_table ')\n",
    "all_ch = sorted([x[0]for x in c.fetchall()])\n",
    "# all_ch\n",
    "# X"
   ]
  },
  {
   "cell_type": "code",
   "execution_count": 44,
   "metadata": {},
   "outputs": [
    {
     "name": "stdout",
     "output_type": "stream",
     "text": [
      "280\n"
     ]
    }
   ],
   "source": [
    "# c.execute('SELECT \"1_before_arp\",\"2_before_arp\" ,\"3_before_arp\" ,\"1_after_arp\" ,\"2_after_arp\" ,\"3_after_arp\" ,  arpabet  FROM Training_table  ')\n",
    "# x = c.fetchone()\n",
    "# print len(features(x))"
   ]
  },
  {
   "cell_type": "code",
   "execution_count": 53,
   "metadata": {},
   "outputs": [
    {
     "name": "stdout",
     "output_type": "stream",
     "text": [
      "1 6 25 14 8\n"
     ]
    }
   ],
   "source": [
    "\n",
    "def one_hot(el,li):\n",
    "    ret = [0]*(len(li)+1)\n",
    "    ret[li.index(el)] = 1\n",
    "#     print ret\n",
    "    return ret[1:]\n",
    "    \n",
    "def features(row):\n",
    "    ret = []\n",
    "    for x in row:\n",
    "        ret += one_hot(x,all_ph)\n",
    "    return ret\n",
    "#     return [\n",
    "#         arp_dict[row[0]],\n",
    "#         arp_dict[row[1]],\n",
    "#         arp_dict[row[2]],\n",
    "#         arp_dict[row[3]],\n",
    "#         arp_dict[row[4]],\n",
    "#         arp_dict[row[5]],\n",
    "#         arp_dict[row[6]],\n",
    "# #         arp_dict[row[7]],\n",
    "# #         char_dict[row[7]]\n",
    "#     ]\n",
    "def generatorY():\n",
    "    \n",
    "    n = 0\n",
    "    c.execute('select character FROM Training_table ')\n",
    "    Y = c.fetchall()\n",
    "    while n < len(Y):\n",
    "        yield all_ch.index(Y[n][0])\n",
    "        n+= 1\n",
    "        \n",
    "def generatorX():\n",
    "    num = 0\n",
    "    c.execute('SELECT count(*) FROM Training_table')\n",
    "    total = c.fetchall()[0][0]\n",
    "    while num < total:\n",
    "        if num % 1000 == 0:\n",
    "            c.execute('SELECT \"1_before_arp\",\"2_before_arp\" ,\"3_before_arp\" ,\\\n",
    "          \"1_after_arp\" ,\"2_after_arp\" ,\"3_after_arp\" ,  arpabet  FROM Training_table LIMIT '+num+\" , 1000\")\n",
    "            X = [features(row) for row in c.fetchall()]\n",
    "            \n",
    "        yield X[num%1000]\n",
    "        num += 1\n",
    "\n",
    "X = generatorX()\n",
    "Y = generatorY()\n",
    "i = 0\n",
    "for y in Y:\n",
    "    print y,\n",
    "    i+=1\n",
    "    if i==5:\n",
    "        break\n",
    "# c.execute('SELECT \"1_before_arp\",\"2_before_arp\" ,\"3_before_arp\" ,\\\n",
    "#           \"1_after_arp\" ,\"2_after_arp\" ,\"3_after_arp\" ,  arpabet , character FROM Training_table ORDER BY RANDOM() LIMIT 20000')\n",
    "# X = [features(row) for row in c.fetchall()]\n",
    "# Y = [x[-1] for x in X]\n",
    "# X = [x[:-1] for x in X]\n"
   ]
  },
  {
   "cell_type": "code",
   "execution_count": 45,
   "metadata": {},
   "outputs": [],
   "source": [
    "# from sklearn.preprocessing import OneHotEncoder\n",
    "# import numpy\n",
    "# encX = OneHotEncoder()\n",
    "# encX.fit(X)\n",
    "# _X = encX.transform(X).toarray()\n",
    "# Y = numpy.matrix(Y)\n",
    "# encY = OneHotEncoder()\n",
    "# # Y = numpy.reshape(Y,len(Y),1)\n",
    "# encY.fit(Y.T)\n",
    "# _Y = encY.transform(Y.T).toarray()"
   ]
  },
  {
   "cell_type": "code",
   "execution_count": 55,
   "metadata": {},
   "outputs": [
    {
     "ename": "TypeError",
     "evalue": "float() argument must be a string or a number",
     "output_type": "error",
     "traceback": [
      "\u001b[0;31m---------------------------------------------------------------------------\u001b[0m",
      "\u001b[0;31mTypeError\u001b[0m                                 Traceback (most recent call last)",
      "\u001b[0;32m<ipython-input-55-78000c84c7f8>\u001b[0m in \u001b[0;36m<module>\u001b[0;34m()\u001b[0m\n\u001b[1;32m      2\u001b[0m \u001b[0mmodel\u001b[0m \u001b[0;34m=\u001b[0m \u001b[0mRandomForestClassifier\u001b[0m\u001b[0;34m(\u001b[0m\u001b[0;34m)\u001b[0m\u001b[0;34m\u001b[0m\u001b[0m\n\u001b[1;32m      3\u001b[0m \u001b[0;31m# model = GradientBoostingClassifier()\u001b[0m\u001b[0;34m\u001b[0m\u001b[0;34m\u001b[0m\u001b[0m\n\u001b[0;32m----> 4\u001b[0;31m \u001b[0mmodel\u001b[0m\u001b[0;34m.\u001b[0m\u001b[0mfit\u001b[0m\u001b[0;34m(\u001b[0m\u001b[0mX\u001b[0m\u001b[0;34m,\u001b[0m\u001b[0mY\u001b[0m\u001b[0;34m)\u001b[0m\u001b[0;34m\u001b[0m\u001b[0m\n\u001b[0m",
      "\u001b[0;32m/usr/local/lib/python2.7/dist-packages/sklearn/ensemble/forest.pyc\u001b[0m in \u001b[0;36mfit\u001b[0;34m(self, X, y, sample_weight)\u001b[0m\n\u001b[1;32m    245\u001b[0m         \"\"\"\n\u001b[1;32m    246\u001b[0m         \u001b[0;31m# Validate or convert input data\u001b[0m\u001b[0;34m\u001b[0m\u001b[0;34m\u001b[0m\u001b[0m\n\u001b[0;32m--> 247\u001b[0;31m         \u001b[0mX\u001b[0m \u001b[0;34m=\u001b[0m \u001b[0mcheck_array\u001b[0m\u001b[0;34m(\u001b[0m\u001b[0mX\u001b[0m\u001b[0;34m,\u001b[0m \u001b[0maccept_sparse\u001b[0m\u001b[0;34m=\u001b[0m\u001b[0;34m\"csc\"\u001b[0m\u001b[0;34m,\u001b[0m \u001b[0mdtype\u001b[0m\u001b[0;34m=\u001b[0m\u001b[0mDTYPE\u001b[0m\u001b[0;34m)\u001b[0m\u001b[0;34m\u001b[0m\u001b[0m\n\u001b[0m\u001b[1;32m    248\u001b[0m         \u001b[0my\u001b[0m \u001b[0;34m=\u001b[0m \u001b[0mcheck_array\u001b[0m\u001b[0;34m(\u001b[0m\u001b[0my\u001b[0m\u001b[0;34m,\u001b[0m \u001b[0maccept_sparse\u001b[0m\u001b[0;34m=\u001b[0m\u001b[0;34m'csc'\u001b[0m\u001b[0;34m,\u001b[0m \u001b[0mensure_2d\u001b[0m\u001b[0;34m=\u001b[0m\u001b[0mFalse\u001b[0m\u001b[0;34m,\u001b[0m \u001b[0mdtype\u001b[0m\u001b[0;34m=\u001b[0m\u001b[0mNone\u001b[0m\u001b[0;34m)\u001b[0m\u001b[0;34m\u001b[0m\u001b[0m\n\u001b[1;32m    249\u001b[0m         \u001b[0;32mif\u001b[0m \u001b[0missparse\u001b[0m\u001b[0;34m(\u001b[0m\u001b[0mX\u001b[0m\u001b[0;34m)\u001b[0m\u001b[0;34m:\u001b[0m\u001b[0;34m\u001b[0m\u001b[0m\n",
      "\u001b[0;32m/usr/local/lib/python2.7/dist-packages/sklearn/utils/validation.pyc\u001b[0m in \u001b[0;36mcheck_array\u001b[0;34m(array, accept_sparse, dtype, order, copy, force_all_finite, ensure_2d, allow_nd, ensure_min_samples, ensure_min_features, warn_on_dtype, estimator)\u001b[0m\n\u001b[1;32m    380\u001b[0m                                       force_all_finite)\n\u001b[1;32m    381\u001b[0m     \u001b[0;32melse\u001b[0m\u001b[0;34m:\u001b[0m\u001b[0;34m\u001b[0m\u001b[0m\n\u001b[0;32m--> 382\u001b[0;31m         \u001b[0marray\u001b[0m \u001b[0;34m=\u001b[0m \u001b[0mnp\u001b[0m\u001b[0;34m.\u001b[0m\u001b[0marray\u001b[0m\u001b[0;34m(\u001b[0m\u001b[0marray\u001b[0m\u001b[0;34m,\u001b[0m \u001b[0mdtype\u001b[0m\u001b[0;34m=\u001b[0m\u001b[0mdtype\u001b[0m\u001b[0;34m,\u001b[0m \u001b[0morder\u001b[0m\u001b[0;34m=\u001b[0m\u001b[0morder\u001b[0m\u001b[0;34m,\u001b[0m \u001b[0mcopy\u001b[0m\u001b[0;34m=\u001b[0m\u001b[0mcopy\u001b[0m\u001b[0;34m)\u001b[0m\u001b[0;34m\u001b[0m\u001b[0m\n\u001b[0m\u001b[1;32m    383\u001b[0m \u001b[0;34m\u001b[0m\u001b[0m\n\u001b[1;32m    384\u001b[0m         \u001b[0;32mif\u001b[0m \u001b[0mensure_2d\u001b[0m\u001b[0;34m:\u001b[0m\u001b[0;34m\u001b[0m\u001b[0m\n",
      "\u001b[0;31mTypeError\u001b[0m: float() argument must be a string or a number"
     ]
    }
   ],
   "source": [
    "from sklearn.ensemble import RandomForestClassifier, GradientBoostingClassifier\n",
    "model = RandomForestClassifier()\n",
    "# model = GradientBoostingClassifier()\n",
    "model.fit(X,Y)"
   ]
  },
  {
   "cell_type": "code",
   "execution_count": 47,
   "metadata": {
    "collapsed": true
   },
   "outputs": [],
   "source": [
    "pred=model.predict(_X)"
   ]
  },
  {
   "cell_type": "code",
   "execution_count": 53,
   "metadata": {
    "collapsed": true
   },
   "outputs": [],
   "source": [
    "preds = [chars[numpy.argmax(ch.tolist())] for ch in pred]"
   ]
  },
  {
   "cell_type": "code",
   "execution_count": 54,
   "metadata": {},
   "outputs": [
    {
     "data": {
      "text/plain": [
       "'eu'"
      ]
     },
     "execution_count": 54,
     "metadata": {},
     "output_type": "execute_result"
    }
   ],
   "source": [
    "preds[0]"
   ]
  },
  {
   "cell_type": "code",
   "execution_count": 56,
   "metadata": {},
   "outputs": [
    {
     "data": {
      "text/plain": [
       "'eu'"
      ]
     },
     "execution_count": 56,
     "metadata": {},
     "output_type": "execute_result"
    }
   ],
   "source": [
    "chars[numpy.argmax(_Y[0])]"
   ]
  },
  {
   "cell_type": "code",
   "execution_count": null,
   "metadata": {
    "collapsed": true
   },
   "outputs": [],
   "source": [
    "model.score(_X,Y.tolist()[0])"
   ]
  }
 ],
 "metadata": {
  "kernelspec": {
   "display_name": "Python 2",
   "language": "python",
   "name": "python2"
  },
  "language_info": {
   "codemirror_mode": {
    "name": "ipython",
    "version": 2
   },
   "file_extension": ".py",
   "mimetype": "text/x-python",
   "name": "python",
   "nbconvert_exporter": "python",
   "pygments_lexer": "ipython2",
   "version": "2.7.12"
  },
  "toc": {
   "colors": {
    "hover_highlight": "#DAA520",
    "running_highlight": "#FF0000",
    "selected_highlight": "#FFD700"
   },
   "moveMenuLeft": true,
   "nav_menu": {
    "height": "12px",
    "width": "252px"
   },
   "navigate_menu": true,
   "number_sections": true,
   "sideBar": true,
   "threshold": 4,
   "toc_cell": false,
   "toc_section_display": "block",
   "toc_window_display": false,
   "widenNotebook": false
  }
 },
 "nbformat": 4,
 "nbformat_minor": 2
}
